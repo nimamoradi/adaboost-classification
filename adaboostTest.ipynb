{
 "cells": [
  {
   "cell_type": "code",
   "execution_count": 1,
   "outputs": [],
   "source": [
    "import pickle\n",
    "with open('model.pickle', 'rb') as handle:\n",
    "    model = pickle.load(handle)\n"
   ],
   "metadata": {
    "collapsed": false,
    "pycharm": {
     "name": "#%%\n",
     "is_executing": false
    }
   }
  },
  {
   "cell_type": "code",
   "execution_count": 2,
   "outputs": [
    {
     "name": "stdout",
     "text": [
      "<class 'list'>\n"
     ],
     "output_type": "stream"
    }
   ],
   "source": [
    "import numpy as np\n",
    "print(type(model['weights'].loc[1]))\n",
    "for inx,item in model['weights'].iteritems():\n",
    "    model['weights'].loc[inx] = np.array(item)\n",
    "    "
   ],
   "metadata": {
    "collapsed": false,
    "pycharm": {
     "name": "#%%\n",
     "is_executing": false
    }
   }
  },
  {
   "cell_type": "code",
   "execution_count": 3,
   "outputs": [],
   "source": [
    "for i in model['weights'].index:\n",
    "     model.at[i, 'weights'] = np.sort(model['weights'].loc[i])\n",
    "   "
   ],
   "metadata": {
    "collapsed": false,
    "pycharm": {
     "name": "#%%\n",
     "is_executing": false
    }
   }
  },
  {
   "cell_type": "code",
   "execution_count": 4,
   "outputs": [
    {
     "name": "stdout",
     "text": [
      "0      [0.9279048545396201, 0.9364541835043, 0.940747...\n1      [0.9279048545396201, 0.9364541835043, 0.940747...\n2      [0.9279048545396201, 0.9364541835043, 0.940747...\n3      [0.9279048545396201, 0.9364541835043, 0.940747...\n4      [0.9279048545396201, 0.9364541835043, 0.940747...\n5      [0.9279048545396201, 0.9364541835043, 0.940747...\n6      [0.9279048545396201, 0.9364541835043, 0.940747...\n7      [0.9279048545396201, 0.9364541835043, 0.940747...\n8      [0.9279048545396201, 0.9364541835043, 0.940747...\n9      [0.9279048545396201, 0.9364541835043, 0.940747...\n10     [0.9279048545396201, 0.9364541835043, 0.940747...\n11     [0.9279048545396201, 0.9364541835043, 0.940747...\n12     [0.9279048545396201, 0.9364541835043, 0.940747...\n13     [0.9279048545396201, 0.9364541835043, 0.940747...\n14     [0.9279048545396201, 0.9364541835043, 0.940747...\n15     [0.9279048545396201, 0.9364541835043, 0.940747...\n16     [0.9279048545396201, 0.9364541835043, 0.940747...\n17     [0.9279048545396201, 0.9364541835043, 0.940747...\n18     [0.9279048545396201, 0.9364541835043, 0.940747...\n19     [0.9279048545396201, 0.9364541835043, 0.940747...\n20     [0.9279048545396201, 0.9364541835043, 0.940747...\n21     [0.9279048545396201, 0.9364541835043, 0.940747...\n22     [0.9279048545396201, 0.9364541835043, 0.940747...\n23     [0.9279048545396201, 0.9364541835043, 0.940747...\n24     [0.9279048545396201, 0.9364541835043, 0.940747...\n25     [0.9279048545396201, 0.9364541835043, 0.940747...\n26     [0.9279048545396201, 0.9364541835043, 0.940747...\n27     [0.9279048545396201, 0.9364541835043, 0.940747...\n28     [0.9279048545396201, 0.9364541835043, 0.940747...\n29     [0.9279048545396201, 0.9364541835043, 0.940747...\n                             ...                        \n614    [0.9279048545396201, 0.9364541835043, 0.940747...\n615    [0.9279048545396201, 0.9364541835043, 0.940747...\n616    [0.9279048545396201, 0.9364541835043, 0.940747...\n617    [0.9279048545396201, 0.9364541835043, 0.940747...\n618    [0.9279048545396201, 0.9364541835043, 0.940747...\n619    [0.9279048545396201, 0.9364541835043, 0.940747...\n620    [0.9279048545396201, 0.9364541835043, 0.940747...\n621    [0.9279048545396201, 0.9364541835043, 0.940747...\n622    [0.9279048545396201, 0.9364541835043, 0.940747...\n623    [0.9279048545396201, 0.9364541835043, 0.940747...\n624    [0.9279048545396201, 0.9364541835043, 0.940747...\n625    [0.9279048545396201, 0.9364541835043, 0.940747...\n626    [0.9279048545396201, 0.9364541835043, 0.940747...\n627    [0.9279048545396201, 0.9364541835043, 0.940747...\n628    [0.9279048545396201, 0.9364541835043, 0.940747...\n629    [0.9279048545396201, 0.9364541835043, 0.940747...\n630    [0.9279048545396201, 0.9364541835043, 0.940747...\n631    [0.9279048545396201, 0.9364541835043, 0.940747...\n632    [0.9279048545396201, 0.9364541835043, 0.940747...\n633    [0.9279048545396201, 0.9364541835043, 0.940747...\n634    [0.9279048545396201, 0.9364541835043, 0.940747...\n635    [0.9279048545396201, 0.9364541835043, 0.940747...\n636    [0.9279048545396201, 0.9364541835043, 0.940747...\n637    [0.9279048545396201, 0.9364541835043, 0.940747...\n638    [0.9279048545396201, 0.9364541835043, 0.940747...\n639    [0.9279048545396201, 0.9364541835043, 0.940747...\n640    [0.9279048545396201, 0.9364541835043, 0.940747...\n641    [0.9279048545396201, 0.9364541835043, 0.940747...\n642    [0.9279048545396201, 0.9364541835043, 0.940747...\n643    [0.9279048545396201, 0.9364541835043, 0.940747...\nName: weights, Length: 644, dtype: object\n"
     ],
     "output_type": "stream"
    }
   ],
   "source": [
    "print((model['weights']))\n",
    "\n",
    "X = np.stack(model['weights'].values)\n",
    "y = np.array([0 if 'auti' in a else 1 for a in model['label']])"
   ],
   "metadata": {
    "collapsed": false,
    "pycharm": {
     "name": "#%%\n",
     "is_executing": false
    }
   }
  },
  {
   "cell_type": "code",
   "execution_count": 5,
   "outputs": [],
   "source": [
    "from sklearn.model_selection import train_test_split\n",
    "# implementing train-test-split\n",
    "X_train, X_test, y_train, y_test = train_test_split(X, y, test_size=0.20, random_state=40)\n",
    "\n",
    "\n"
   ],
   "metadata": {
    "collapsed": false,
    "pycharm": {
     "name": "#%%\n",
     "is_executing": false
    }
   }
  },
  {
   "cell_type": "code",
   "execution_count": 6,
   "outputs": [],
   "source": [
    "# Load libraries\n",
    "from sklearn.ensemble import AdaBoostClassifier\n",
    "from sklearn import metrics"
   ],
   "metadata": {
    "collapsed": false,
    "pycharm": {
     "name": "#%%\n",
     "is_executing": false
    }
   }
  },
  {
   "cell_type": "code",
   "execution_count": 7,
   "outputs": [],
   "source": [
    "# Create adaboost classifer object\n",
    "abc = AdaBoostClassifier(n_estimators=500,\n",
    "                         learning_rate=0.01)\n",
    "# Train Adaboost Classifer\n",
    "ada = abc.fit(X_train, y_train)\n",
    "\n",
    "#Predict the response for test dataset\n",
    "y_pred = ada.predict(X_test)"
   ],
   "metadata": {
    "collapsed": false,
    "pycharm": {
     "name": "#%%\n",
     "is_executing": false
    }
   }
  },
  {
   "cell_type": "code",
   "execution_count": 8,
   "outputs": [],
   "source": [
    "# Model Accuracy, how often is the classifier correct?\n",
    "from sklearn.model_selection import cross_val_score\n",
    "from sklearn.metrics import classification_report, confusion_matrix\n",
    "rfc_cv_score = cross_val_score(ada, X, y, cv=10, scoring='roc_auc')"
   ],
   "metadata": {
    "collapsed": false,
    "pycharm": {
     "name": "#%%\n",
     "is_executing": false
    }
   }
  },
  {
   "cell_type": "code",
   "execution_count": 9,
   "outputs": [
    {
     "name": "stdout",
     "text": [
      "=== Confusion Matrix ===\n[[  5  15]\n [  2 107]]\n\n\n=== Classification Report ===\n              precision    recall  f1-score   support\n\n           0       0.71      0.25      0.37        20\n           1       0.88      0.98      0.93       109\n\n   micro avg       0.87      0.87      0.87       129\n   macro avg       0.80      0.62      0.65       129\nweighted avg       0.85      0.87      0.84       129\n\n\n\n=== All AUC Scores ===\n[0.88657407 0.80188679 0.65487421 0.75986278 0.76500858 0.7813036\n 0.8542024  0.60891938 0.78301887 0.78216123]\n\n\n=== Mean AUC Score ===\nMean AUC Score - adaboost classifer:  0.7677811924274188\n"
     ],
     "output_type": "stream"
    }
   ],
   "source": [
    "print(\"=== Confusion Matrix ===\")\n",
    "print(confusion_matrix(y_test, y_pred))\n",
    "print('\\n')\n",
    "print(\"=== Classification Report ===\")\n",
    "print(classification_report(y_test, y_pred))\n",
    "print('\\n')\n",
    "print(\"=== All AUC Scores ===\")\n",
    "print(rfc_cv_score)\n",
    "print('\\n')\n",
    "print(\"=== Mean AUC Score ===\")\n",
    "print(\"Mean AUC Score - adaboost classifer: \", rfc_cv_score.mean())"
   ],
   "metadata": {
    "collapsed": false,
    "pycharm": {
     "name": "#%%\n",
     "is_executing": false
    }
   }
  }
 ],
 "metadata": {
  "kernelspec": {
   "display_name": "Python 3",
   "language": "python",
   "name": "python3"
  },
  "language_info": {
   "codemirror_mode": {
    "name": "ipython",
    "version": 2
   },
   "file_extension": ".py",
   "mimetype": "text/x-python",
   "name": "python",
   "nbconvert_exporter": "python",
   "pygments_lexer": "ipython2",
   "version": "2.7.6"
  },
  "pycharm": {
   "stem_cell": {
    "cell_type": "raw",
    "source": [],
    "metadata": {
     "collapsed": false
    }
   }
  }
 },
 "nbformat": 4,
 "nbformat_minor": 0
}