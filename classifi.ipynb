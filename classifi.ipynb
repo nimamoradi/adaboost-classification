{
 "cells": [
  {
   "cell_type": "code",
   "execution_count": 12,
   "metadata": {
    "pycharm": {
     "is_executing": false
    }
   },
   "outputs": [],
   "source": [
    "import pickle\n",
    "with open('model.pickle', 'rb') as handle:\n",
    "    model = pickle.load(handle)\n"
   ]
  },
  {
   "cell_type": "code",
   "execution_count": 13,
   "outputs": [
    {
     "name": "stdout",
     "text": [
      "<class 'list'>\n"
     ],
     "output_type": "stream"
    }
   ],
   "source": [
    "import numpy as np\n",
    "print(type(model['weights'].loc[1]))\n",
    "for inx,item in model['weights'].iteritems():\n",
    "    model['weights'].loc[inx] = np.array(item)\n"
   ],
   "metadata": {
    "collapsed": false,
    "pycharm": {
     "name": "#%%\n",
     "is_executing": false
    }
   }
  },
  {
   "cell_type": "code",
   "execution_count": 15,
   "outputs": [],
   "source": [
    "for i in model['weights'].index:\n",
    "     model.at[i, 'weights'] = np.sort(model['weights'].loc[i])\n",
    "   "
   ],
   "metadata": {
    "collapsed": false,
    "pycharm": {
     "name": "#%%\n",
     "is_executing": false
    }
   }
  },
  {
   "cell_type": "code",
   "execution_count": 16,
   "outputs": [],
   "source": [
    "text_array = \"\"\n",
    "for i in model.index:\n",
    "     #generate an array with strings\n",
    "     x_arrstr = np.char.mod('%f', model['weights'].loc[i])\n",
    "     #combine to a string\n",
    "     x_str = \",\".join(x_arrstr)\n",
    "     text_array += model['label'].loc[i]+\",\"+x_str +\"\\n\"\n",
    "     \n",
    "f = open(\"sorted.csv\", \"w\")\n",
    "f.write(text_array)\n",
    "f.close()"
   ],
   "metadata": {
    "collapsed": false,
    "pycharm": {
     "name": "#%%\n",
     "is_executing": false
    }
   }
  },
  {
   "cell_type": "code",
   "execution_count": 7,
   "outputs": [
    {
     "name": "stdout",
     "text": [
      "0      [0.9279048545396201, 0.9364541835043, 0.940747...\n1      [0.9279048545396201, 0.9364541835043, 0.940747...\n2      [0.9279048545396201, 0.9364541835043, 0.940747...\n3      [0.9279048545396201, 0.9364541835043, 0.940747...\n4      [0.9279048545396201, 0.9364541835043, 0.940747...\n5      [0.9279048545396201, 0.9364541835043, 0.940747...\n6      [0.9279048545396201, 0.9364541835043, 0.940747...\n7      [0.9279048545396201, 0.9364541835043, 0.940747...\n8      [0.9279048545396201, 0.9364541835043, 0.940747...\n9      [0.9279048545396201, 0.9364541835043, 0.940747...\n10     [0.9279048545396201, 0.9364541835043, 0.940747...\n11     [0.9279048545396201, 0.9364541835043, 0.940747...\n12     [0.9279048545396201, 0.9364541835043, 0.940747...\n13     [0.9279048545396201, 0.9364541835043, 0.940747...\n14     [0.9279048545396201, 0.9364541835043, 0.940747...\n15     [0.9279048545396201, 0.9364541835043, 0.940747...\n16     [0.9279048545396201, 0.9364541835043, 0.940747...\n17     [0.9279048545396201, 0.9364541835043, 0.940747...\n18     [0.9279048545396201, 0.9364541835043, 0.940747...\n19     [0.9279048545396201, 0.9364541835043, 0.940747...\n20     [0.9279048545396201, 0.9364541835043, 0.940747...\n21     [0.9279048545396201, 0.9364541835043, 0.940747...\n22     [0.9279048545396201, 0.9364541835043, 0.940747...\n23     [0.9279048545396201, 0.9364541835043, 0.940747...\n24     [0.9279048545396201, 0.9364541835043, 0.940747...\n25     [0.9279048545396201, 0.9364541835043, 0.940747...\n26     [0.9279048545396201, 0.9364541835043, 0.940747...\n27     [0.9279048545396201, 0.9364541835043, 0.940747...\n28     [0.9279048545396201, 0.9364541835043, 0.940747...\n29     [0.9279048545396201, 0.9364541835043, 0.940747...\n                             ...                        \n614    [0.9279048545396201, 0.9364541835043, 0.940747...\n615    [0.9279048545396201, 0.9364541835043, 0.940747...\n616    [0.9279048545396201, 0.9364541835043, 0.940747...\n617    [0.9279048545396201, 0.9364541835043, 0.940747...\n618    [0.9279048545396201, 0.9364541835043, 0.940747...\n619    [0.9279048545396201, 0.9364541835043, 0.940747...\n620    [0.9279048545396201, 0.9364541835043, 0.940747...\n621    [0.9279048545396201, 0.9364541835043, 0.940747...\n622    [0.9279048545396201, 0.9364541835043, 0.940747...\n623    [0.9279048545396201, 0.9364541835043, 0.940747...\n624    [0.9279048545396201, 0.9364541835043, 0.940747...\n625    [0.9279048545396201, 0.9364541835043, 0.940747...\n626    [0.9279048545396201, 0.9364541835043, 0.940747...\n627    [0.9279048545396201, 0.9364541835043, 0.940747...\n628    [0.9279048545396201, 0.9364541835043, 0.940747...\n629    [0.9279048545396201, 0.9364541835043, 0.940747...\n630    [0.9279048545396201, 0.9364541835043, 0.940747...\n631    [0.9279048545396201, 0.9364541835043, 0.940747...\n632    [0.9279048545396201, 0.9364541835043, 0.940747...\n633    [0.9279048545396201, 0.9364541835043, 0.940747...\n634    [0.9279048545396201, 0.9364541835043, 0.940747...\n635    [0.9279048545396201, 0.9364541835043, 0.940747...\n636    [0.9279048545396201, 0.9364541835043, 0.940747...\n637    [0.9279048545396201, 0.9364541835043, 0.940747...\n638    [0.9279048545396201, 0.9364541835043, 0.940747...\n639    [0.9279048545396201, 0.9364541835043, 0.940747...\n640    [0.9279048545396201, 0.9364541835043, 0.940747...\n641    [0.9279048545396201, 0.9364541835043, 0.940747...\n642    [0.9279048545396201, 0.9364541835043, 0.940747...\n643    [0.9279048545396201, 0.9364541835043, 0.940747...\nName: weights, Length: 644, dtype: object\n"
     ],
     "output_type": "stream"
    }
   ],
   "source": [
    "print((model['weights']))\n",
    "\n",
    "X = np.stack(model['weights'].values)\n",
    "y = np.array([0 if 'auti' in a else 1 for a in model['label']]).reshape(len(model['label']), 1)"
   ],
   "metadata": {
    "collapsed": false,
    "pycharm": {
     "name": "#%%\n",
     "is_executing": false
    }
   }
  },
  {
   "cell_type": "code",
   "execution_count": 8,
   "outputs": [],
   "source": [
    "from sklearn.model_selection import train_test_split\n",
    "# implementing train-test-split\n",
    "X_train, X_test, y_train, y_test = train_test_split(X, y, test_size=0.20, random_state=40)"
   ],
   "metadata": {
    "collapsed": false,
    "pycharm": {
     "name": "#%%\n",
     "is_executing": false
    }
   }
  },
  {
   "cell_type": "code",
   "execution_count": 9,
   "outputs": [
    {
     "name": "stdout",
     "text": [
      "500\n"
     ],
     "output_type": "stream"
    },
    {
     "name": "stderr",
     "text": [
      "d:\\ProgramData\\Anaconda3\\lib\\site-packages\\sklearn\\ensemble\\forest.py:246: FutureWarning: The default value of n_estimators will change from 10 in version 0.20 to 100 in 0.22.\n  \"10 in version 0.20 to 100 in 0.22.\", FutureWarning)\nd:\\ProgramData\\Anaconda3\\lib\\site-packages\\ipykernel_launcher.py:6: DataConversionWarning: A column-vector y was passed when a 1d array was expected. Please change the shape of y to (n_samples,), for example using ravel().\n  \n"
     ],
     "output_type": "stream"
    }
   ],
   "source": [
    "print(len(X[1]))\n",
    "from sklearn.ensemble import RandomForestClassifier\n",
    "# random forest model creation\n",
    "rfc = RandomForestClassifier()\n",
    "rfc.fit(X_train,y_train)\n",
    "# predictions\n",
    "rfc_predict = rfc.predict(X_test)"
   ],
   "metadata": {
    "collapsed": false,
    "pycharm": {
     "name": "#%%\n",
     "is_executing": false
    }
   }
  },
  {
   "cell_type": "code",
   "execution_count": 10,
   "outputs": [
    {
     "name": "stderr",
     "text": [
      "d:\\ProgramData\\Anaconda3\\lib\\site-packages\\sklearn\\model_selection\\_validation.py:528: DataConversionWarning: A column-vector y was passed when a 1d array was expected. Please change the shape of y to (n_samples,), for example using ravel().\n  estimator.fit(X_train, y_train, **fit_params)\nd:\\ProgramData\\Anaconda3\\lib\\site-packages\\sklearn\\model_selection\\_validation.py:528: DataConversionWarning: A column-vector y was passed when a 1d array was expected. Please change the shape of y to (n_samples,), for example using ravel().\n  estimator.fit(X_train, y_train, **fit_params)\nd:\\ProgramData\\Anaconda3\\lib\\site-packages\\sklearn\\model_selection\\_validation.py:528: DataConversionWarning: A column-vector y was passed when a 1d array was expected. Please change the shape of y to (n_samples,), for example using ravel().\n  estimator.fit(X_train, y_train, **fit_params)\nd:\\ProgramData\\Anaconda3\\lib\\site-packages\\sklearn\\model_selection\\_validation.py:528: DataConversionWarning: A column-vector y was passed when a 1d array was expected. Please change the shape of y to (n_samples,), for example using ravel().\n  estimator.fit(X_train, y_train, **fit_params)\nd:\\ProgramData\\Anaconda3\\lib\\site-packages\\sklearn\\model_selection\\_validation.py:528: DataConversionWarning: A column-vector y was passed when a 1d array was expected. Please change the shape of y to (n_samples,), for example using ravel().\n  estimator.fit(X_train, y_train, **fit_params)\nd:\\ProgramData\\Anaconda3\\lib\\site-packages\\sklearn\\model_selection\\_validation.py:528: DataConversionWarning: A column-vector y was passed when a 1d array was expected. Please change the shape of y to (n_samples,), for example using ravel().\n  estimator.fit(X_train, y_train, **fit_params)\nd:\\ProgramData\\Anaconda3\\lib\\site-packages\\sklearn\\model_selection\\_validation.py:528: DataConversionWarning: A column-vector y was passed when a 1d array was expected. Please change the shape of y to (n_samples,), for example using ravel().\n  estimator.fit(X_train, y_train, **fit_params)\nd:\\ProgramData\\Anaconda3\\lib\\site-packages\\sklearn\\model_selection\\_validation.py:528: DataConversionWarning: A column-vector y was passed when a 1d array was expected. Please change the shape of y to (n_samples,), for example using ravel().\n  estimator.fit(X_train, y_train, **fit_params)\nd:\\ProgramData\\Anaconda3\\lib\\site-packages\\sklearn\\model_selection\\_validation.py:528: DataConversionWarning: A column-vector y was passed when a 1d array was expected. Please change the shape of y to (n_samples,), for example using ravel().\n  estimator.fit(X_train, y_train, **fit_params)\nd:\\ProgramData\\Anaconda3\\lib\\site-packages\\sklearn\\model_selection\\_validation.py:528: DataConversionWarning: A column-vector y was passed when a 1d array was expected. Please change the shape of y to (n_samples,), for example using ravel().\n  estimator.fit(X_train, y_train, **fit_params)\n"
     ],
     "output_type": "stream"
    }
   ],
   "source": [
    "from sklearn.model_selection import cross_val_score\n",
    "from sklearn.metrics import classification_report, confusion_matrix\n",
    "\n",
    "rfc_cv_score = cross_val_score(rfc, X, y, cv=10, scoring='roc_auc')"
   ],
   "metadata": {
    "collapsed": false,
    "pycharm": {
     "name": "#%%\n",
     "is_executing": false
    }
   }
  },
  {
   "cell_type": "code",
   "execution_count": 11,
   "outputs": [
    {
     "name": "stdout",
     "text": [
      "=== Confusion Matrix ===\n[[ 11   9]\n [  9 100]]\n\n\n=== Classification Report ===\n              precision    recall  f1-score   support\n\n           0       0.55      0.55      0.55        20\n           1       0.92      0.92      0.92       109\n\n   micro avg       0.86      0.86      0.86       129\n   macro avg       0.73      0.73      0.73       129\nweighted avg       0.86      0.86      0.86       129\n\n\n\n=== All AUC Scores ===\n[0.78626543 0.76336478 0.70676101 0.71955403 0.59691252 0.76843911\n 0.81475129 0.7058319  0.78559177 0.74185249]\n\n\n=== Mean AUC Score ===\nMean AUC Score - Random Forest:  0.7389324322893505\n"
     ],
     "output_type": "stream"
    }
   ],
   "source": [
    "print(\"=== Confusion Matrix ===\")\n",
    "print(confusion_matrix(y_test, rfc_predict))\n",
    "print('\\n')\n",
    "print(\"=== Classification Report ===\")\n",
    "print(classification_report(y_test, rfc_predict))\n",
    "print('\\n')\n",
    "print(\"=== All AUC Scores ===\")\n",
    "print(rfc_cv_score)\n",
    "print('\\n')\n",
    "print(\"=== Mean AUC Score ===\")\n",
    "print(\"Mean AUC Score - Random Forest: \", rfc_cv_score.mean())"
   ],
   "metadata": {
    "collapsed": false,
    "pycharm": {
     "name": "#%%\n",
     "is_executing": false
    }
   }
  },
  {
   "cell_type": "code",
   "execution_count": null,
   "outputs": [],
   "source": [
    "\n"
   ],
   "metadata": {
    "collapsed": false,
    "pycharm": {
     "name": "#%%\n"
    }
   }
  }
 ],
 "metadata": {
  "kernelspec": {
   "display_name": "Python 3",
   "language": "python",
   "name": "python3"
  },
  "language_info": {
   "codemirror_mode": {
    "name": "ipython",
    "version": 3
   },
   "file_extension": ".py",
   "mimetype": "text/x-python",
   "name": "python",
   "nbconvert_exporter": "python",
   "pygments_lexer": "ipython3",
   "version": "3.6.7"
  },
  "pycharm": {
   "stem_cell": {
    "cell_type": "raw",
    "source": [],
    "metadata": {
     "collapsed": false
    }
   }
  }
 },
 "nbformat": 4,
 "nbformat_minor": 2
}